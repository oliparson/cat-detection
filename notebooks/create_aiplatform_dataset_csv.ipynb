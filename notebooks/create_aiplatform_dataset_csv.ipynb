{
 "cells": [
  {
   "cell_type": "code",
   "execution_count": 1,
   "metadata": {},
   "outputs": [],
   "source": [
    "from google.cloud import storage\n",
    "import pandas as pd\n",
    "from io import StringIO # if going with no saving csv file"
   ]
  },
  {
   "cell_type": "code",
   "execution_count": 2,
   "metadata": {},
   "outputs": [],
   "source": [
    "# Define bucket and blob prefix\n",
    "\n",
    "bucket_name = 'catflap-photos-raw'\n",
    "prefix = '2020-05-10_13'"
   ]
  },
  {
   "cell_type": "code",
   "execution_count": 3,
   "metadata": {},
   "outputs": [],
   "source": [
    "# Set up GCS\n",
    "\n",
    "client = storage.Client()\n",
    "bucket = client.get_bucket(bucket_name)"
   ]
  },
  {
   "cell_type": "code",
   "execution_count": 4,
   "metadata": {},
   "outputs": [],
   "source": [
    "# Get list of blob names\n",
    "\n",
    "blobs = bucket.list_blobs(prefix=prefix)\n",
    "blob_list = [blob.name for blob in blobs]"
   ]
  },
  {
   "cell_type": "code",
   "execution_count": 5,
   "metadata": {},
   "outputs": [
    {
     "name": "stdout",
     "output_type": "stream",
     "text": [
      "(447, 2)\n"
     ]
    },
    {
     "data": {
      "text/html": [
       "<div>\n",
       "<style scoped>\n",
       "    .dataframe tbody tr th:only-of-type {\n",
       "        vertical-align: middle;\n",
       "    }\n",
       "\n",
       "    .dataframe tbody tr th {\n",
       "        vertical-align: top;\n",
       "    }\n",
       "\n",
       "    .dataframe thead th {\n",
       "        text-align: right;\n",
       "    }\n",
       "</style>\n",
       "<table border=\"1\" class=\"dataframe\">\n",
       "  <thead>\n",
       "    <tr style=\"text-align: right;\">\n",
       "      <th></th>\n",
       "      <th>name</th>\n",
       "      <th>gcs_location</th>\n",
       "    </tr>\n",
       "  </thead>\n",
       "  <tbody>\n",
       "    <tr>\n",
       "      <th>0</th>\n",
       "      <td>2020-05-10_130006.jpg</td>\n",
       "      <td>gs://catflap-photos-raw/2020-05-10_130006.jpg</td>\n",
       "    </tr>\n",
       "    <tr>\n",
       "      <th>1</th>\n",
       "      <td>2020-05-10_130013.jpg</td>\n",
       "      <td>gs://catflap-photos-raw/2020-05-10_130013.jpg</td>\n",
       "    </tr>\n",
       "    <tr>\n",
       "      <th>2</th>\n",
       "      <td>2020-05-10_130024.jpg</td>\n",
       "      <td>gs://catflap-photos-raw/2020-05-10_130024.jpg</td>\n",
       "    </tr>\n",
       "    <tr>\n",
       "      <th>3</th>\n",
       "      <td>2020-05-10_130031.jpg</td>\n",
       "      <td>gs://catflap-photos-raw/2020-05-10_130031.jpg</td>\n",
       "    </tr>\n",
       "    <tr>\n",
       "      <th>4</th>\n",
       "      <td>2020-05-10_130038.jpg</td>\n",
       "      <td>gs://catflap-photos-raw/2020-05-10_130038.jpg</td>\n",
       "    </tr>\n",
       "  </tbody>\n",
       "</table>\n",
       "</div>"
      ],
      "text/plain": [
       "                    name                                   gcs_location\n",
       "0  2020-05-10_130006.jpg  gs://catflap-photos-raw/2020-05-10_130006.jpg\n",
       "1  2020-05-10_130013.jpg  gs://catflap-photos-raw/2020-05-10_130013.jpg\n",
       "2  2020-05-10_130024.jpg  gs://catflap-photos-raw/2020-05-10_130024.jpg\n",
       "3  2020-05-10_130031.jpg  gs://catflap-photos-raw/2020-05-10_130031.jpg\n",
       "4  2020-05-10_130038.jpg  gs://catflap-photos-raw/2020-05-10_130038.jpg"
      ]
     },
     "execution_count": 5,
     "metadata": {},
     "output_type": "execute_result"
    }
   ],
   "source": [
    "# Create dataframe of blob names\n",
    "\n",
    "blob_df = pd.DataFrame()\n",
    "blob_df['name'] = pd.Series(blob_list)\n",
    "blob_df['gcs_location'] = 'gs://' + bucket_name + '/' + blob_df.name\n",
    "\n",
    "print(blob_df.shape)\n",
    "blob_df.head()"
   ]
  },
  {
   "cell_type": "code",
   "execution_count": 6,
   "metadata": {},
   "outputs": [],
   "source": [
    "# Write CSV to GCS\n",
    "\n",
    "f = StringIO()\n",
    "blob_df.gcs_location.to_csv(f, header=False, index=False)\n",
    "f.seek(0)\n",
    "bucket.blob('data_set_'+prefix+'.csv').upload_from_file(f, content_type='text/csv')"
   ]
  },
  {
   "cell_type": "code",
   "execution_count": null,
   "metadata": {},
   "outputs": [],
   "source": []
  }
 ],
 "metadata": {
  "kernelspec": {
   "display_name": "cat-detection",
   "language": "python",
   "name": "cat-detection"
  },
  "language_info": {
   "codemirror_mode": {
    "name": "ipython",
    "version": 3
   },
   "file_extension": ".py",
   "mimetype": "text/x-python",
   "name": "python",
   "nbconvert_exporter": "python",
   "pygments_lexer": "ipython3",
   "version": "3.5.3"
  }
 },
 "nbformat": 4,
 "nbformat_minor": 4
}
